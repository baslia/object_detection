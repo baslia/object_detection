{
 "cells": [
  {
   "cell_type": "markdown",
   "source": [
    "# Predicting the number of rebar in an image\n",
    "After training the model, we can use it to predict the number of rebar in an image.\n",
    "We will conduct a hyperparameter tuning on the threshold to get the best MSE."
   ],
   "metadata": {
    "collapsed": false
   },
   "id": "66004d2c19e117c4"
  },
  {
   "cell_type": "code",
   "execution_count": 1,
   "id": "initial_id",
   "metadata": {
    "collapsed": true,
    "ExecuteTime": {
     "end_time": "2024-02-01T06:09:38.000342Z",
     "start_time": "2024-02-01T06:09:18.834387Z"
    }
   },
   "outputs": [],
   "source": [
    "import os\n",
    "import torch\n",
    "import torchvision\n",
    "import pytorch_lightning as pl\n",
    "import pandas as pd\n",
    "import matplotlib.pyplot as plt\n",
    "import seaborn as sns\n",
    "from transformers import DetrForObjectDetection, DetrFeatureExtractor\n",
    "from sklearn.metrics import mean_squared_error, mean_absolute_error"
   ]
  },
  {
   "cell_type": "markdown",
   "source": [
    "## Load the model\n",
    "We will use the model trained in the previous notebook. We need to load it as well as sprecifying the architecture of the model."
   ],
   "metadata": {
    "collapsed": false
   },
   "id": "cc241525c35efcda"
  },
  {
   "cell_type": "code",
   "outputs": [],
   "source": [
    "# Create the Data loader to train the model\n",
    "class CocoDetection(torchvision.datasets.CocoDetection):\n",
    "    def __init__(self, img_folder, feature_extractor, mode='train'):\n",
    "        assert mode in ['train', 'val', 'test'],  f'Unknown mode: {mode}'\n",
    "        ann_file = os.path.join(img_folder, f\"annotations/{mode}.json\")\n",
    "        super(CocoDetection, self).__init__(img_folder, ann_file)\n",
    "        self.feature_extractor = feature_extractor\n",
    "\n",
    "    def __getitem__(self, idx):\n",
    "        # read in PIL image and target in COCO format\n",
    "        img, target = super(CocoDetection, self).__getitem__(idx)\n",
    "        \n",
    "        # preprocess image and target (converting target to DETR format, resizing + normalization of both image and target)\n",
    "        image_id = self.ids[idx]\n",
    "        target = {'image_id': image_id, 'annotations': target}\n",
    "        encoding = self.feature_extractor(images=img, annotations=target, return_tensors=\"pt\")\n",
    "        pixel_values = encoding[\"pixel_values\"].squeeze() # remove batch dimension\n",
    "        target = encoding[\"labels\"][0] # remove batch dimension\n",
    "\n",
    "        return pixel_values, target\n",
    "\n",
    "\n",
    "# We define our model based on DETR\n",
    "class Detr(pl.LightningModule):\n",
    "\n",
    "     def __init__(self, lr=1e-4, lr_backbone=1e-5, weight_decay=1e-4, num_queries=500, num_labels=2, pretrained_model=\"facebook/detr-resnet-50\"):\n",
    "         super().__init__()\n",
    "         # replace COCO classification head with custom head\n",
    "         self.model = DetrForObjectDetection.from_pretrained(pretrained_model, \n",
    "                                                             num_labels=num_labels,\n",
    "                                                             num_queries=num_queries,\n",
    "                                                             ignore_mismatched_sizes=True)\n",
    "         self.lr = lr\n",
    "         self.lr_backbone = lr_backbone\n",
    "         self.weight_decay = weight_decay\n",
    "\n",
    "     def forward(self, pixel_values, pixel_mask):\n",
    "       outputs = self.model(pixel_values=pixel_values, pixel_mask=pixel_mask)\n",
    "\n",
    "       return outputs\n",
    "     \n",
    "     def common_step(self, batch, batch_idx):\n",
    "       pixel_values = batch[\"pixel_values\"]\n",
    "       pixel_mask = batch[\"pixel_mask\"]\n",
    "       labels = [{k: v.to(self.device) for k, v in t.items()} for t in batch[\"labels\"]]\n",
    "\n",
    "       outputs = self.model(pixel_values=pixel_values, pixel_mask=pixel_mask, labels=labels)\n",
    "\n",
    "       loss = outputs.loss\n",
    "       loss_dict = outputs.loss_dict\n",
    "\n",
    "       return loss, loss_dict\n",
    "\n",
    "     def training_step(self, batch, batch_idx):\n",
    "        loss, loss_dict = self.common_step(batch, batch_idx)     \n",
    "        # logs metrics for each training_step,\n",
    "        # and the average across the epoch\n",
    "        self.log(\"training_loss\", loss)\n",
    "        for k,v in loss_dict.items():\n",
    "          self.log(\"train_\" + k, v.item())\n",
    "\n",
    "        return loss\n",
    "\n",
    "     def validation_step(self, batch, batch_idx):\n",
    "        loss, loss_dict = self.common_step(batch, batch_idx)     \n",
    "        self.log(\"validation_loss\", loss)\n",
    "        for k,v in loss_dict.items():\n",
    "          self.log(\"validation_\" + k, v.item())\n",
    "\n",
    "        return loss\n",
    "\n",
    "     def configure_optimizers(self):\n",
    "        param_dicts = [\n",
    "              {\"params\": [p for n, p in self.named_parameters() if \"backbone\" not in n and p.requires_grad]},\n",
    "              {\n",
    "                  \"params\": [p for n, p in self.named_parameters() if \"backbone\" in n and p.requires_grad],\n",
    "                  \"lr\": self.lr_backbone,\n",
    "              },\n",
    "        ]\n",
    "        optimizer = torch.optim.AdamW(param_dicts, lr=self.lr,\n",
    "                                  weight_decay=self.weight_decay)\n",
    "        \n",
    "        return optimizer\n",
    "     # This part is not needed since we are not training the model\n",
    "     # \n",
    "     # def train_dataloader(self):\n",
    "     #    return train_dataloader\n",
    "     # \n",
    "     # def val_dataloader(self):\n",
    "     #    return val_dataloader"
   ],
   "metadata": {
    "collapsed": false,
    "ExecuteTime": {
     "end_time": "2024-02-01T06:09:59.334770Z",
     "start_time": "2024-02-01T06:09:59.331192Z"
    }
   },
   "id": "bff45896c97f9fb7",
   "execution_count": 2
  },
  {
   "cell_type": "code",
   "outputs": [
    {
     "name": "stderr",
     "output_type": "stream",
     "text": [
      "Some weights of the model checkpoint at facebook/detr-resnet-50 were not used when initializing DetrForObjectDetection: ['model.backbone.conv_encoder.model.layer2.0.downsample.1.num_batches_tracked', 'model.backbone.conv_encoder.model.layer3.0.downsample.1.num_batches_tracked', 'model.backbone.conv_encoder.model.layer4.0.downsample.1.num_batches_tracked', 'model.backbone.conv_encoder.model.layer1.0.downsample.1.num_batches_tracked']\n",
      "- This IS expected if you are initializing DetrForObjectDetection from the checkpoint of a model trained on another task or with another architecture (e.g. initializing a BertForSequenceClassification model from a BertForPreTraining model).\n",
      "- This IS NOT expected if you are initializing DetrForObjectDetection from the checkpoint of a model that you expect to be exactly identical (initializing a BertForSequenceClassification model from a BertForSequenceClassification model).\n",
      "Some weights of DetrForObjectDetection were not initialized from the model checkpoint at facebook/detr-resnet-50 and are newly initialized because the shapes did not match:\n",
      "- model.query_position_embeddings.weight: found shape torch.Size([100, 256]) in the checkpoint and torch.Size([500, 256]) in the model instantiated\n",
      "- class_labels_classifier.weight: found shape torch.Size([92, 256]) in the checkpoint and torch.Size([3, 256]) in the model instantiated\n",
      "- class_labels_classifier.bias: found shape torch.Size([92]) in the checkpoint and torch.Size([3]) in the model instantiated\n",
      "You should probably TRAIN this model on a down-stream task to be able to use it for predictions and inference.\n"
     ]
    },
    {
     "data": {
      "text/plain": "Detr(\n  (model): DetrForObjectDetection(\n    (model): DetrModel(\n      (backbone): DetrConvModel(\n        (conv_encoder): DetrConvEncoder(\n          (model): FeatureListNet(\n            (conv1): Conv2d(3, 64, kernel_size=(7, 7), stride=(2, 2), padding=(3, 3), bias=False)\n            (bn1): DetrFrozenBatchNorm2d()\n            (act1): ReLU(inplace=True)\n            (maxpool): MaxPool2d(kernel_size=3, stride=2, padding=1, dilation=1, ceil_mode=False)\n            (layer1): Sequential(\n              (0): Bottleneck(\n                (conv1): Conv2d(64, 64, kernel_size=(1, 1), stride=(1, 1), bias=False)\n                (bn1): DetrFrozenBatchNorm2d()\n                (act1): ReLU(inplace=True)\n                (conv2): Conv2d(64, 64, kernel_size=(3, 3), stride=(1, 1), padding=(1, 1), bias=False)\n                (bn2): DetrFrozenBatchNorm2d()\n                (drop_block): Identity()\n                (act2): ReLU(inplace=True)\n                (aa): Identity()\n                (conv3): Conv2d(64, 256, kernel_size=(1, 1), stride=(1, 1), bias=False)\n                (bn3): DetrFrozenBatchNorm2d()\n                (act3): ReLU(inplace=True)\n                (downsample): Sequential(\n                  (0): Conv2d(64, 256, kernel_size=(1, 1), stride=(1, 1), bias=False)\n                  (1): DetrFrozenBatchNorm2d()\n                )\n              )\n              (1): Bottleneck(\n                (conv1): Conv2d(256, 64, kernel_size=(1, 1), stride=(1, 1), bias=False)\n                (bn1): DetrFrozenBatchNorm2d()\n                (act1): ReLU(inplace=True)\n                (conv2): Conv2d(64, 64, kernel_size=(3, 3), stride=(1, 1), padding=(1, 1), bias=False)\n                (bn2): DetrFrozenBatchNorm2d()\n                (drop_block): Identity()\n                (act2): ReLU(inplace=True)\n                (aa): Identity()\n                (conv3): Conv2d(64, 256, kernel_size=(1, 1), stride=(1, 1), bias=False)\n                (bn3): DetrFrozenBatchNorm2d()\n                (act3): ReLU(inplace=True)\n              )\n              (2): Bottleneck(\n                (conv1): Conv2d(256, 64, kernel_size=(1, 1), stride=(1, 1), bias=False)\n                (bn1): DetrFrozenBatchNorm2d()\n                (act1): ReLU(inplace=True)\n                (conv2): Conv2d(64, 64, kernel_size=(3, 3), stride=(1, 1), padding=(1, 1), bias=False)\n                (bn2): DetrFrozenBatchNorm2d()\n                (drop_block): Identity()\n                (act2): ReLU(inplace=True)\n                (aa): Identity()\n                (conv3): Conv2d(64, 256, kernel_size=(1, 1), stride=(1, 1), bias=False)\n                (bn3): DetrFrozenBatchNorm2d()\n                (act3): ReLU(inplace=True)\n              )\n            )\n            (layer2): Sequential(\n              (0): Bottleneck(\n                (conv1): Conv2d(256, 128, kernel_size=(1, 1), stride=(1, 1), bias=False)\n                (bn1): DetrFrozenBatchNorm2d()\n                (act1): ReLU(inplace=True)\n                (conv2): Conv2d(128, 128, kernel_size=(3, 3), stride=(2, 2), padding=(1, 1), bias=False)\n                (bn2): DetrFrozenBatchNorm2d()\n                (drop_block): Identity()\n                (act2): ReLU(inplace=True)\n                (aa): Identity()\n                (conv3): Conv2d(128, 512, kernel_size=(1, 1), stride=(1, 1), bias=False)\n                (bn3): DetrFrozenBatchNorm2d()\n                (act3): ReLU(inplace=True)\n                (downsample): Sequential(\n                  (0): Conv2d(256, 512, kernel_size=(1, 1), stride=(2, 2), bias=False)\n                  (1): DetrFrozenBatchNorm2d()\n                )\n              )\n              (1): Bottleneck(\n                (conv1): Conv2d(512, 128, kernel_size=(1, 1), stride=(1, 1), bias=False)\n                (bn1): DetrFrozenBatchNorm2d()\n                (act1): ReLU(inplace=True)\n                (conv2): Conv2d(128, 128, kernel_size=(3, 3), stride=(1, 1), padding=(1, 1), bias=False)\n                (bn2): DetrFrozenBatchNorm2d()\n                (drop_block): Identity()\n                (act2): ReLU(inplace=True)\n                (aa): Identity()\n                (conv3): Conv2d(128, 512, kernel_size=(1, 1), stride=(1, 1), bias=False)\n                (bn3): DetrFrozenBatchNorm2d()\n                (act3): ReLU(inplace=True)\n              )\n              (2): Bottleneck(\n                (conv1): Conv2d(512, 128, kernel_size=(1, 1), stride=(1, 1), bias=False)\n                (bn1): DetrFrozenBatchNorm2d()\n                (act1): ReLU(inplace=True)\n                (conv2): Conv2d(128, 128, kernel_size=(3, 3), stride=(1, 1), padding=(1, 1), bias=False)\n                (bn2): DetrFrozenBatchNorm2d()\n                (drop_block): Identity()\n                (act2): ReLU(inplace=True)\n                (aa): Identity()\n                (conv3): Conv2d(128, 512, kernel_size=(1, 1), stride=(1, 1), bias=False)\n                (bn3): DetrFrozenBatchNorm2d()\n                (act3): ReLU(inplace=True)\n              )\n              (3): Bottleneck(\n                (conv1): Conv2d(512, 128, kernel_size=(1, 1), stride=(1, 1), bias=False)\n                (bn1): DetrFrozenBatchNorm2d()\n                (act1): ReLU(inplace=True)\n                (conv2): Conv2d(128, 128, kernel_size=(3, 3), stride=(1, 1), padding=(1, 1), bias=False)\n                (bn2): DetrFrozenBatchNorm2d()\n                (drop_block): Identity()\n                (act2): ReLU(inplace=True)\n                (aa): Identity()\n                (conv3): Conv2d(128, 512, kernel_size=(1, 1), stride=(1, 1), bias=False)\n                (bn3): DetrFrozenBatchNorm2d()\n                (act3): ReLU(inplace=True)\n              )\n            )\n            (layer3): Sequential(\n              (0): Bottleneck(\n                (conv1): Conv2d(512, 256, kernel_size=(1, 1), stride=(1, 1), bias=False)\n                (bn1): DetrFrozenBatchNorm2d()\n                (act1): ReLU(inplace=True)\n                (conv2): Conv2d(256, 256, kernel_size=(3, 3), stride=(2, 2), padding=(1, 1), bias=False)\n                (bn2): DetrFrozenBatchNorm2d()\n                (drop_block): Identity()\n                (act2): ReLU(inplace=True)\n                (aa): Identity()\n                (conv3): Conv2d(256, 1024, kernel_size=(1, 1), stride=(1, 1), bias=False)\n                (bn3): DetrFrozenBatchNorm2d()\n                (act3): ReLU(inplace=True)\n                (downsample): Sequential(\n                  (0): Conv2d(512, 1024, kernel_size=(1, 1), stride=(2, 2), bias=False)\n                  (1): DetrFrozenBatchNorm2d()\n                )\n              )\n              (1): Bottleneck(\n                (conv1): Conv2d(1024, 256, kernel_size=(1, 1), stride=(1, 1), bias=False)\n                (bn1): DetrFrozenBatchNorm2d()\n                (act1): ReLU(inplace=True)\n                (conv2): Conv2d(256, 256, kernel_size=(3, 3), stride=(1, 1), padding=(1, 1), bias=False)\n                (bn2): DetrFrozenBatchNorm2d()\n                (drop_block): Identity()\n                (act2): ReLU(inplace=True)\n                (aa): Identity()\n                (conv3): Conv2d(256, 1024, kernel_size=(1, 1), stride=(1, 1), bias=False)\n                (bn3): DetrFrozenBatchNorm2d()\n                (act3): ReLU(inplace=True)\n              )\n              (2): Bottleneck(\n                (conv1): Conv2d(1024, 256, kernel_size=(1, 1), stride=(1, 1), bias=False)\n                (bn1): DetrFrozenBatchNorm2d()\n                (act1): ReLU(inplace=True)\n                (conv2): Conv2d(256, 256, kernel_size=(3, 3), stride=(1, 1), padding=(1, 1), bias=False)\n                (bn2): DetrFrozenBatchNorm2d()\n                (drop_block): Identity()\n                (act2): ReLU(inplace=True)\n                (aa): Identity()\n                (conv3): Conv2d(256, 1024, kernel_size=(1, 1), stride=(1, 1), bias=False)\n                (bn3): DetrFrozenBatchNorm2d()\n                (act3): ReLU(inplace=True)\n              )\n              (3): Bottleneck(\n                (conv1): Conv2d(1024, 256, kernel_size=(1, 1), stride=(1, 1), bias=False)\n                (bn1): DetrFrozenBatchNorm2d()\n                (act1): ReLU(inplace=True)\n                (conv2): Conv2d(256, 256, kernel_size=(3, 3), stride=(1, 1), padding=(1, 1), bias=False)\n                (bn2): DetrFrozenBatchNorm2d()\n                (drop_block): Identity()\n                (act2): ReLU(inplace=True)\n                (aa): Identity()\n                (conv3): Conv2d(256, 1024, kernel_size=(1, 1), stride=(1, 1), bias=False)\n                (bn3): DetrFrozenBatchNorm2d()\n                (act3): ReLU(inplace=True)\n              )\n              (4): Bottleneck(\n                (conv1): Conv2d(1024, 256, kernel_size=(1, 1), stride=(1, 1), bias=False)\n                (bn1): DetrFrozenBatchNorm2d()\n                (act1): ReLU(inplace=True)\n                (conv2): Conv2d(256, 256, kernel_size=(3, 3), stride=(1, 1), padding=(1, 1), bias=False)\n                (bn2): DetrFrozenBatchNorm2d()\n                (drop_block): Identity()\n                (act2): ReLU(inplace=True)\n                (aa): Identity()\n                (conv3): Conv2d(256, 1024, kernel_size=(1, 1), stride=(1, 1), bias=False)\n                (bn3): DetrFrozenBatchNorm2d()\n                (act3): ReLU(inplace=True)\n              )\n              (5): Bottleneck(\n                (conv1): Conv2d(1024, 256, kernel_size=(1, 1), stride=(1, 1), bias=False)\n                (bn1): DetrFrozenBatchNorm2d()\n                (act1): ReLU(inplace=True)\n                (conv2): Conv2d(256, 256, kernel_size=(3, 3), stride=(1, 1), padding=(1, 1), bias=False)\n                (bn2): DetrFrozenBatchNorm2d()\n                (drop_block): Identity()\n                (act2): ReLU(inplace=True)\n                (aa): Identity()\n                (conv3): Conv2d(256, 1024, kernel_size=(1, 1), stride=(1, 1), bias=False)\n                (bn3): DetrFrozenBatchNorm2d()\n                (act3): ReLU(inplace=True)\n              )\n            )\n            (layer4): Sequential(\n              (0): Bottleneck(\n                (conv1): Conv2d(1024, 512, kernel_size=(1, 1), stride=(1, 1), bias=False)\n                (bn1): DetrFrozenBatchNorm2d()\n                (act1): ReLU(inplace=True)\n                (conv2): Conv2d(512, 512, kernel_size=(3, 3), stride=(2, 2), padding=(1, 1), bias=False)\n                (bn2): DetrFrozenBatchNorm2d()\n                (drop_block): Identity()\n                (act2): ReLU(inplace=True)\n                (aa): Identity()\n                (conv3): Conv2d(512, 2048, kernel_size=(1, 1), stride=(1, 1), bias=False)\n                (bn3): DetrFrozenBatchNorm2d()\n                (act3): ReLU(inplace=True)\n                (downsample): Sequential(\n                  (0): Conv2d(1024, 2048, kernel_size=(1, 1), stride=(2, 2), bias=False)\n                  (1): DetrFrozenBatchNorm2d()\n                )\n              )\n              (1): Bottleneck(\n                (conv1): Conv2d(2048, 512, kernel_size=(1, 1), stride=(1, 1), bias=False)\n                (bn1): DetrFrozenBatchNorm2d()\n                (act1): ReLU(inplace=True)\n                (conv2): Conv2d(512, 512, kernel_size=(3, 3), stride=(1, 1), padding=(1, 1), bias=False)\n                (bn2): DetrFrozenBatchNorm2d()\n                (drop_block): Identity()\n                (act2): ReLU(inplace=True)\n                (aa): Identity()\n                (conv3): Conv2d(512, 2048, kernel_size=(1, 1), stride=(1, 1), bias=False)\n                (bn3): DetrFrozenBatchNorm2d()\n                (act3): ReLU(inplace=True)\n              )\n              (2): Bottleneck(\n                (conv1): Conv2d(2048, 512, kernel_size=(1, 1), stride=(1, 1), bias=False)\n                (bn1): DetrFrozenBatchNorm2d()\n                (act1): ReLU(inplace=True)\n                (conv2): Conv2d(512, 512, kernel_size=(3, 3), stride=(1, 1), padding=(1, 1), bias=False)\n                (bn2): DetrFrozenBatchNorm2d()\n                (drop_block): Identity()\n                (act2): ReLU(inplace=True)\n                (aa): Identity()\n                (conv3): Conv2d(512, 2048, kernel_size=(1, 1), stride=(1, 1), bias=False)\n                (bn3): DetrFrozenBatchNorm2d()\n                (act3): ReLU(inplace=True)\n              )\n            )\n          )\n        )\n        (position_embedding): DetrSinePositionEmbedding()\n      )\n      (input_projection): Conv2d(2048, 256, kernel_size=(1, 1), stride=(1, 1))\n      (query_position_embeddings): Embedding(500, 256)\n      (encoder): DetrEncoder(\n        (layers): ModuleList(\n          (0-5): 6 x DetrEncoderLayer(\n            (self_attn): DetrAttention(\n              (k_proj): Linear(in_features=256, out_features=256, bias=True)\n              (v_proj): Linear(in_features=256, out_features=256, bias=True)\n              (q_proj): Linear(in_features=256, out_features=256, bias=True)\n              (out_proj): Linear(in_features=256, out_features=256, bias=True)\n            )\n            (self_attn_layer_norm): LayerNorm((256,), eps=1e-05, elementwise_affine=True)\n            (activation_fn): ReLU()\n            (fc1): Linear(in_features=256, out_features=2048, bias=True)\n            (fc2): Linear(in_features=2048, out_features=256, bias=True)\n            (final_layer_norm): LayerNorm((256,), eps=1e-05, elementwise_affine=True)\n          )\n        )\n      )\n      (decoder): DetrDecoder(\n        (layers): ModuleList(\n          (0-5): 6 x DetrDecoderLayer(\n            (self_attn): DetrAttention(\n              (k_proj): Linear(in_features=256, out_features=256, bias=True)\n              (v_proj): Linear(in_features=256, out_features=256, bias=True)\n              (q_proj): Linear(in_features=256, out_features=256, bias=True)\n              (out_proj): Linear(in_features=256, out_features=256, bias=True)\n            )\n            (activation_fn): ReLU()\n            (self_attn_layer_norm): LayerNorm((256,), eps=1e-05, elementwise_affine=True)\n            (encoder_attn): DetrAttention(\n              (k_proj): Linear(in_features=256, out_features=256, bias=True)\n              (v_proj): Linear(in_features=256, out_features=256, bias=True)\n              (q_proj): Linear(in_features=256, out_features=256, bias=True)\n              (out_proj): Linear(in_features=256, out_features=256, bias=True)\n            )\n            (encoder_attn_layer_norm): LayerNorm((256,), eps=1e-05, elementwise_affine=True)\n            (fc1): Linear(in_features=256, out_features=2048, bias=True)\n            (fc2): Linear(in_features=2048, out_features=256, bias=True)\n            (final_layer_norm): LayerNorm((256,), eps=1e-05, elementwise_affine=True)\n          )\n        )\n        (layernorm): LayerNorm((256,), eps=1e-05, elementwise_affine=True)\n      )\n    )\n    (class_labels_classifier): Linear(in_features=256, out_features=3, bias=True)\n    (bbox_predictor): DetrMLPPredictionHead(\n      (layers): ModuleList(\n        (0-1): 2 x Linear(in_features=256, out_features=256, bias=True)\n        (2): Linear(in_features=256, out_features=4, bias=True)\n      )\n    )\n  )\n)"
     },
     "execution_count": 3,
     "metadata": {},
     "output_type": "execute_result"
    }
   ],
   "source": [
    "# Read the model from file\n",
    "model1 = Detr\n",
    "model = Detr.load_from_checkpoint(\"./model/detr.ckpt\")\n",
    "device = torch.device(\"mps\" if torch.backends.mps.is_available() else \"cpu\")\n",
    "# Set up the device\n",
    "model.to(device)\n",
    "model.eval()"
   ],
   "metadata": {
    "collapsed": false,
    "ExecuteTime": {
     "end_time": "2024-02-01T06:10:01.915831Z",
     "start_time": "2024-02-01T06:10:00.138463Z"
    }
   },
   "id": "8b12db8bbfac6708",
   "execution_count": 3
  },
  {
   "cell_type": "code",
   "outputs": [
    {
     "name": "stderr",
     "output_type": "stream",
     "text": [
      "/opt/homebrew/Caskroom/miniforge/base/envs/py311/lib/python3.11/site-packages/transformers/models/detr/feature_extraction_detr.py:38: FutureWarning: The class DetrFeatureExtractor is deprecated and will be removed in version 5 of Transformers. Please use DetrImageProcessor instead.\n",
      "  warnings.warn(\n",
      "The `max_size` parameter is deprecated and will be removed in v4.26. Please specify in `size['longest_edge'] instead`.\n"
     ]
    },
    {
     "name": "stdout",
     "output_type": "stream",
     "text": [
      "loading annotations into memory...\n",
      "Done (t=0.17s)\n",
      "creating index...\n",
      "index created!\n",
      "loading annotations into memory...\n",
      "Done (t=0.55s)\n",
      "creating index...\n",
      "index created!\n"
     ]
    }
   ],
   "source": [
    "# Set up pre-trained model\n",
    "pretrained_model = \"facebook/detr-resnet-50\"\n",
    "img_folder = \"RebarDSC/images\"\n",
    "\n",
    "feature_extractor = DetrFeatureExtractor.from_pretrained(pretrained_model)\n",
    "val_dataset = CocoDetection(img_folder=f'{img_folder}', feature_extractor=feature_extractor, mode='val')\n",
    "test_dataset = CocoDetection(img_folder=f'{img_folder}', feature_extractor=feature_extractor, mode='test')\n",
    "train_dataset = CocoDetection(img_folder=f'{img_folder}', feature_extractor=feature_extractor, mode='train')"
   ],
   "metadata": {
    "collapsed": false,
    "ExecuteTime": {
     "end_time": "2024-02-01T06:10:04.547492Z",
     "start_time": "2024-02-01T06:10:03.619619Z"
    }
   },
   "id": "60148e0e1f5caa69",
   "execution_count": 4
  },
  {
   "cell_type": "markdown",
   "source": [
    "## Hyperparameter tuning\n",
    "Since the model is taking more than 3 hours to train, we will use the validation set to perform a parameter tuning on the threshold to get the best MSE.\n",
    "This is a good practice to avoid overfitting the test set, and also a good compromise between the time spent training and the accuracy of the model."
   ],
   "metadata": {
    "collapsed": false
   },
   "id": "9c81e4f2272a2622"
  },
  {
   "cell_type": "markdown",
   "source": [
    "When counting the number of rebars in a picture, we are using image processing or machine learning algorithm. The best metric to measure error will depend on the specific nature of our task, but here are a few options:\n",
    "\n",
    "- Mean Absolute Error (MAE): This is the average of the absolute differences between the predicted and actual values. It's a straightforward metric that gives us a raw measure of the error. However, it doesn't give us any insight into whether our model is systematically overestimating or underestimating the counts.\n",
    "\n",
    "- Mean Squared Error (MSE): This is the average of the squares of the differences between the predicted and actual values. It penalizes larger errors more than smaller ones, so it's a good choice if we want to avoid large errors.\n",
    "\n",
    "- Root Mean Squared Error (RMSE): This is the square root of the MSE. It has the same units as the original values, which can make it easier to interpret than the MSE.\n",
    "\n",
    "- Mean Absolute Percentage Error (MAPE): This is the average of the absolute differences between the predicted and actual values, expressed as a percentage of the actual values. This can be a good choice if we want a relative measure of the error.\n",
    "\n",
    "- Confusion Matrix and Derived Metrics (Precision, Recall, F1-score): If we are treating the task as a binary classification problem (rebar vs. no rebar), we could use a confusion matrix to look at the true positives, true negatives, false positives, and false negatives. Derived metrics like precision (how many selected items are relevant), recall (how many relevant items are selected), and the F1 score (harmonic mean of precision and recall) can provide more nuanced information about our model's performance.\n",
    "\n",
    "- Intersection over Union (IoU): This is a measure of the overlap between the predicted and actual regions. It's often used in image segmentation tasks, which could be similar to our task if we're identifying the areas of the image that contain rebars.\n",
    "\n",
    "For this project, we will use the RMSE as our metric."
   ],
   "metadata": {
    "collapsed": false
   },
   "id": "2ee5726709ac76ee"
  },
  {
   "cell_type": "code",
   "outputs": [],
   "source": [
    "def count_rebar(outputs, threshold=0.7):\n",
    "  # keep only predictions with confidence >= threshold\n",
    "    probas = outputs.logits.softmax(-1)[0, :, :-1]\n",
    "    keep = probas.max(-1).values > threshold\n",
    "\n",
    "  # return the count of rebar\n",
    "    return len(probas[keep])"
   ],
   "metadata": {
    "collapsed": false,
    "ExecuteTime": {
     "end_time": "2024-02-01T06:10:09.415804Z",
     "start_time": "2024-02-01T06:10:09.410950Z"
    }
   },
   "id": "ee1e9be218cae5e5",
   "execution_count": 5
  },
  {
   "cell_type": "code",
   "outputs": [],
   "source": [
    "# Perform a parameter tuning on the threshold to get the best MSE\n",
    "def get_RMSE(threshold, mode=\"val\"):\n",
    "    pred_res = pd.DataFrame(columns=[\"image_id\", \"pred_count\", \"act_count\"])\n",
    "    if mode == \"val\":\n",
    "        dataset = val_dataset\n",
    "    elif mode == \"test\":\n",
    "        dataset = test_dataset\n",
    "    elif mode == \"train\":\n",
    "        dataset = train_dataset\n",
    "    else:\n",
    "        raise ValueError(\"Unknown mode\")\n",
    "    \n",
    "    for it in iter(range(len(dataset))):\n",
    "        if it % 50 == 0:\n",
    "            # Print the progress\n",
    "            print(f'{it}/{len(dataset)}')\n",
    "\n",
    "        pixel_values, target = dataset[it]\n",
    "        act_count = target['class_labels'].sum().tolist()\n",
    "        \n",
    "        pixel_values = pixel_values.unsqueeze(0).to(device)\n",
    "        outputs = model(pixel_values=pixel_values, pixel_mask=None)\n",
    "        image_id = target['image_id'].item()\n",
    "        pred_count = count_rebar(outputs, threshold=threshold)\n",
    "        \n",
    "        pred_res.loc[len(pred_res)] = [image_id, pred_count, act_count]\n",
    "        y_true = pred_res[\"act_count\"]\n",
    "        y_pred = pred_res[\"pred_count\"]\n",
    "        \n",
    "    return [mean_squared_error(y_true, y_pred), mean_absolute_error(y_true, y_pred)], pred_res"
   ],
   "metadata": {
    "collapsed": false,
    "ExecuteTime": {
     "end_time": "2024-02-01T06:10:10.260738Z",
     "start_time": "2024-02-01T06:10:10.258500Z"
    }
   },
   "id": "251e1e7d0803cdb2",
   "execution_count": 6
  },
  {
   "cell_type": "code",
   "outputs": [
    {
     "name": "stdout",
     "output_type": "stream",
     "text": [
      "0/225\n",
      "50/225\n",
      "100/225\n",
      "150/225\n",
      "200/225\n",
      "0/225\n",
      "50/225\n",
      "100/225\n",
      "150/225\n",
      "200/225\n",
      "Threshold: 0.5, RMSE: 108905.2\n",
      "Threshold: 0.5, MAE: 322.8088888888889\n",
      "0/225\n",
      "50/225\n",
      "100/225\n",
      "150/225\n",
      "200/225\n",
      "0/225\n",
      "50/225\n",
      "100/225\n",
      "150/225\n",
      "200/225\n",
      "Threshold: 0.6, RMSE: 93260.42222222222\n",
      "Threshold: 0.6, MAE: 295.4888888888889\n",
      "0/225\n",
      "50/225\n",
      "100/225\n",
      "150/225\n",
      "200/225\n",
      "0/225\n",
      "50/225\n",
      "100/225\n",
      "150/225\n",
      "200/225\n",
      "Threshold: 0.7, RMSE: 67846.43111111112\n",
      "Threshold: 0.7, MAE: 240.57333333333332\n",
      "0/225\n",
      "50/225\n",
      "100/225\n",
      "150/225\n",
      "200/225\n",
      "0/225\n",
      "50/225\n",
      "100/225\n",
      "150/225\n",
      "200/225\n",
      "Threshold: 0.8, RMSE: 33583.497777777775\n",
      "Threshold: 0.8, MAE: 154.4311111111111\n",
      "0/225\n",
      "50/225\n",
      "100/225\n",
      "150/225\n",
      "200/225\n",
      "0/225\n",
      "50/225\n",
      "100/225\n",
      "150/225\n",
      "200/225\n",
      "Threshold: 0.85, RMSE: 18729.457777777778\n",
      "Threshold: 0.85, MAE: 114.38222222222223\n",
      "0/225\n",
      "50/225\n",
      "100/225\n",
      "150/225\n",
      "200/225\n",
      "0/225\n",
      "50/225\n",
      "100/225\n",
      "150/225\n",
      "200/225\n",
      "Threshold: 0.9, RMSE: 9478.36\n",
      "Threshold: 0.9, MAE: 85.85333333333334\n",
      "0/225\n",
      "50/225\n",
      "100/225\n",
      "150/225\n",
      "200/225\n",
      "0/225\n",
      "50/225\n",
      "100/225\n",
      "150/225\n",
      "200/225\n",
      "Threshold: 0.95, RMSE: 25661.324444444443\n",
      "Threshold: 0.95, MAE: 146.14222222222222\n",
      "0/225\n",
      "50/225\n",
      "100/225\n",
      "150/225\n",
      "200/225\n",
      "0/225\n",
      "50/225\n",
      "100/225\n",
      "150/225\n",
      "200/225\n",
      "Threshold: 0.99, RMSE: 31168.626666666667\n",
      "Threshold: 0.99, MAE: 158.24444444444444\n"
     ]
    }
   ],
   "source": [
    "# Perform a parameter tuning on the threshold to get the best MSE\n",
    "thresholds = [0.5, 0.6, 0.7, 0.8, 0.85, 0.9, 0.95, 0.99]\n",
    "RMSEs = []\n",
    "MAEs = []\n",
    "for threshold in thresholds:\n",
    "    res = get_RMSE(threshold, mode=\"val\")\n",
    "    RMSE = res[0][0]\n",
    "    MAE = res[0][1]\n",
    "    print(f\"Threshold: {threshold}, RMSE: {RMSE}\")\n",
    "    print(f\"Threshold: {threshold}, MAE: {MAE}\")\n",
    "    RMSEs.append(RMSE)\n",
    "    MAEs.append(MAE)"
   ],
   "metadata": {
    "collapsed": false,
    "ExecuteTime": {
     "end_time": "2024-02-01T06:28:40.772018Z",
     "start_time": "2024-02-01T06:10:11.852404Z"
    }
   },
   "id": "4ed76c41afdbd6ca",
   "execution_count": 7
  },
  {
   "cell_type": "code",
   "outputs": [
    {
     "data": {
      "text/plain": "<Figure size 640x480 with 2 Axes>",
      "image/png": "[encoded data removed]"
     },
     "metadata": {},
     "output_type": "display_data"
    }
   ],
   "source": [
    "#Visualize the results (MAE and RMSE) of the parameter tuning\n",
    "fig, ax1 = plt.subplots()\n",
    "\n",
    "color = 'tab:blue'\n",
    "ax1.set_xlabel('Threshold')\n",
    "ax1.set_ylabel('RMSE', color=color)\n",
    "ax1.plot(thresholds, RMSEs, color=color)\n",
    "ax1.tick_params(axis='y', labelcolor=color)\n",
    "\n",
    "ax2 = ax1.twinx()  # instantiate a second axes that shares the same x-axis\n",
    "\n",
    "color = 'tab:red'\n",
    "ax2.set_ylabel('MAE', color=color)  # we already handled the x-label with ax1\n",
    "ax2.plot(thresholds, MAEs, color=color)\n",
    "ax2.tick_params(axis='y', labelcolor=color)\n",
    "\n",
    "fig.tight_layout()  # otherwise the right y-label is slightly clipped\n",
    "plt.show()\n"
   ],
   "metadata": {
    "collapsed": false,
    "ExecuteTime": {
     "end_time": "2024-02-01T06:28:54.963647Z",
     "start_time": "2024-02-01T06:28:54.767944Z"
    }
   },
   "id": "c3a631b25cfe5505",
   "execution_count": 8
  },
  {
   "cell_type": "code",
   "outputs": [
    {
     "name": "stdout",
     "output_type": "stream",
     "text": [
      "Best threshold: 0.9\n"
     ]
    }
   ],
   "source": [
    "# Find the best threshold using RMSE\n",
    "best_threshold = thresholds[RMSEs.index(min(RMSEs))]\n",
    "print(f\"Best threshold: {best_threshold}\")"
   ],
   "metadata": {
    "collapsed": false,
    "ExecuteTime": {
     "end_time": "2024-02-01T06:29:05.334053Z",
     "start_time": "2024-02-01T06:29:05.330752Z"
    }
   },
   "id": "aa0059820a5a82d0",
   "execution_count": 9
  },
  {
   "cell_type": "code",
   "outputs": [
    {
     "name": "stdout",
     "output_type": "stream",
     "text": [
      "0/1000\n",
      "20/1000\n",
      "40/1000\n",
      "60/1000\n",
      "80/1000\n",
      "100/1000\n",
      "120/1000\n",
      "140/1000\n",
      "160/1000\n",
      "180/1000\n",
      "200/1000\n",
      "220/1000\n",
      "240/1000\n",
      "260/1000\n",
      "280/1000\n",
      "300/1000\n",
      "320/1000\n",
      "340/1000\n",
      "360/1000\n",
      "380/1000\n",
      "400/1000\n",
      "420/1000\n",
      "440/1000\n",
      "460/1000\n",
      "480/1000\n",
      "500/1000\n",
      "520/1000\n",
      "540/1000\n",
      "560/1000\n",
      "580/1000\n",
      "600/1000\n",
      "620/1000\n",
      "640/1000\n",
      "660/1000\n",
      "680/1000\n",
      "700/1000\n",
      "720/1000\n",
      "740/1000\n",
      "760/1000\n",
      "780/1000\n",
      "800/1000\n",
      "820/1000\n",
      "840/1000\n",
      "860/1000\n",
      "880/1000\n",
      "900/1000\n",
      "920/1000\n",
      "940/1000\n",
      "960/1000\n",
      "980/1000\n",
      "RMSE: 10476.654\n"
     ]
    }
   ],
   "source": [
    "# Get the MSE (Mean Squared Error)\n",
    "results = get_RMSE(best_threshold, mode=\"test\")\n",
    "print(\"RMSE:\", results[0][1])"
   ],
   "metadata": {
    "collapsed": false,
    "ExecuteTime": {
     "end_time": "2024-01-31T08:43:55.876423Z",
     "start_time": "2024-01-31T08:38:57.558310Z"
    }
   },
   "id": "643e58b643a10f9",
   "execution_count": 23
  },
  {
   "cell_type": "code",
   "outputs": [
    {
     "data": {
      "text/plain": "     image_id  pred_count  act_count\n0           1         150        245\n1           3           0         46\n2           5         133        232\n3           9          28        199\n4          16         281        272\n..        ...         ...        ...\n995      2117          53        149\n996      2118         458        280\n997      2121          73        174\n998      2123         421        266\n999      2124          28        198\n\n[1000 rows x 3 columns]",
      "text/html": "<div>\n<style scoped>\n    .dataframe tbody tr th:only-of-type {\n        vertical-align: middle;\n    }\n\n    .dataframe tbody tr th {\n        vertical-align: top;\n    }\n\n    .dataframe thead th {\n        text-align: right;\n    }\n</style>\n<table border=\"1\" class=\"dataframe\">\n  <thead>\n    <tr style=\"text-align: right;\">\n      <th></th>\n      <th>image_id</th>\n      <th>pred_count</th>\n      <th>act_count</th>\n    </tr>\n  </thead>\n  <tbody>\n    <tr>\n      <th>0</th>\n      <td>1</td>\n      <td>150</td>\n      <td>245</td>\n    </tr>\n    <tr>\n      <th>1</th>\n      <td>3</td>\n      <td>0</td>\n      <td>46</td>\n    </tr>\n    <tr>\n      <th>2</th>\n      <td>5</td>\n      <td>133</td>\n      <td>232</td>\n    </tr>\n    <tr>\n      <th>3</th>\n      <td>9</td>\n      <td>28</td>\n      <td>199</td>\n    </tr>\n    <tr>\n      <th>4</th>\n      <td>16</td>\n      <td>281</td>\n      <td>272</td>\n    </tr>\n    <tr>\n      <th>...</th>\n      <td>...</td>\n      <td>...</td>\n      <td>...</td>\n    </tr>\n    <tr>\n      <th>995</th>\n      <td>2117</td>\n      <td>53</td>\n      <td>149</td>\n    </tr>\n    <tr>\n      <th>996</th>\n      <td>2118</td>\n      <td>458</td>\n      <td>280</td>\n    </tr>\n    <tr>\n      <th>997</th>\n      <td>2121</td>\n      <td>73</td>\n      <td>174</td>\n    </tr>\n    <tr>\n      <th>998</th>\n      <td>2123</td>\n      <td>421</td>\n      <td>266</td>\n    </tr>\n    <tr>\n      <th>999</th>\n      <td>2124</td>\n      <td>28</td>\n      <td>198</td>\n    </tr>\n  </tbody>\n</table>\n<p>1000 rows × 3 columns</p>\n</div>"
     },
     "execution_count": 24,
     "metadata": {},
     "output_type": "execute_result"
    }
   ],
   "source": [
    "# View the prediction table\n",
    "results[1]"
   ],
   "metadata": {
    "collapsed": false,
    "ExecuteTime": {
     "end_time": "2024-01-31T08:43:55.883744Z",
     "start_time": "2024-01-31T08:43:55.881124Z"
    }
   },
   "id": "6ae73117f7160cb3",
   "execution_count": 24
  },
  {
   "cell_type": "markdown",
   "source": [
    "## Build a naive model\n",
    "We will build a naive model to compare the RMSE with our model.\n",
    "The naive model will predict the average number of rebars in the training set for every image."
   ],
   "metadata": {
    "collapsed": false
   },
   "id": "8c7607557e4c26e0"
  },
  {
   "cell_type": "code",
   "outputs": [
    {
     "name": "stdout",
     "output_type": "stream",
     "text": [
      "RMSE naive: 6179.134311\n"
     ]
    }
   ],
   "source": [
    "# Compare the RMSE to a naive model\n",
    "results_train = get_RMSE(best_threshold, mode=\"train\")\n",
    "avg_count = results_train[1][\"act_count\"].mean()\n",
    "print(\"RMSE naive:\", mean_squared_error(results[1][\"act_count\"], [avg_count]*len(results[1])))"
   ],
   "metadata": {
    "collapsed": false,
    "ExecuteTime": {
     "end_time": "2024-01-31T08:43:55.887197Z",
     "start_time": "2024-01-31T08:43:55.884112Z"
    }
   },
   "id": "cf174a9830ad5277",
   "execution_count": 25
  },
  {
   "cell_type": "markdown",
   "source": [
    "## Conclusion\n",
    "\n",
    "Our analysis has yielded an RMSE that is not optimal, indicating that the current performance of our image processing model for counting the number of rebars is subpar. This outcome is likely attributable to the relatively brief training period we utilized, which consisted of only a few epochs. \n",
    "\n",
    "In the realm of machine learning, the process of training a model is an iterative one, and running a model through a limited number of epochs might not allow it to learn the underlying patterns in the data sufficiently. Consequently, the model's predictive accuracy may be compromised, as reflected in the high RMSE.\n",
    "\n",
    "To improve our model's performance, we propose to extend the training duration. This would provide the model with additional opportunities to learn from the data and, potentially, yield a more accurate rebar count.\n",
    "\n",
    "In addition to extending the training duration, it would be beneficial to conduct hyperparameter tuning. This involves systematically changing parameters like the learning rate, weight decay, and gradient clipping to find the combination that optimizes model performance.\n",
    "\n",
    "The learning rate controls the size of the adjustments made to the model's weights during training. An optimal learning rate would balance the need for the model to learn quickly, without overshooting the minimum of the loss function.\n",
    "\n",
    "Weight decay is a regularization technique that prevents the weights from becoming too large, which can lead to overfitting. By tuning this parameter, we can ensure that our model generalizes well to unseen data.\n",
    "\n",
    "Gradient clipping is a technique used to prevent exploding gradients, a problem where large gradient values cause a model to miss the minimum of the loss function. By tuning the clipping value, we can ensure that the gradients remain within a manageable range, enabling the model to learn effectively.\n",
    "\n",
    "In summary, to enhance our model's performance, we suggest implementing a more extensive training period and conducting hyperparameter tuning for the learning rate, weight decay, and gradient clipping. This approach should lead to a significant reduction in the RMSE and, consequently, a more accurate count of rebars in images."
   ],
   "metadata": {
    "collapsed": false
   },
   "id": "579e020113a4b3a2"
  },
  {
   "cell_type": "code",
   "outputs": [],
   "source": [],
   "metadata": {
    "collapsed": false
   },
   "id": "e34b7d9fa58899b9"
  }
 ],
 "metadata": {
  "kernelspec": {
   "display_name": "Python 3",
   "language": "python",
   "name": "python3"
  },
  "language_info": {
   "codemirror_mode": {
    "name": "ipython",
    "version": 2
   },
   "file_extension": ".py",
   "mimetype": "text/x-python",
   "name": "python",
   "nbconvert_exporter": "python",
   "pygments_lexer": "ipython2",
   "version": "2.7.6"
  }
 },
 "nbformat": 4,
 "nbformat_minor": 5
}
