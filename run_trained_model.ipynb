{
 "cells": [
  {
   "cell_type": "markdown",
   "source": [
    "# Predicting the number of rebar in an image\n",
    "After training the model, we can use it to predict the number of rebar in an image."
   ],
   "metadata": {
    "collapsed": false
   },
   "id": "66004d2c19e117c4"
  },
  {
   "cell_type": "code",
   "execution_count": null,
   "id": "initial_id",
   "metadata": {
    "collapsed": true
   },
   "outputs": [],
   "source": [
    "import torch\n",
    "import torchvision\n",
    "import pandas as pd\n",
    "from transformers import DetrForObjectDetection, DetrFeatureExtractor\n",
    "from sklearn.metrics import mean_squared_error"
   ]
  },
  {
   "cell_type": "code",
   "outputs": [],
   "source": [
    "device = torch.device(\"mps\" if torch.backends.mps.is_available() else \"cpu\")\n",
    "# Read the model from file\n",
    "model = DetrForObjectDetection.from_pretrained('./model/detr_model').to(device)\n",
    "model.to(device)\n",
    "model.eval()"
   ],
   "metadata": {
    "collapsed": false
   },
   "id": "70748fbdba01f02"
  },
  {
   "cell_type": "code",
   "outputs": [],
   "source": [
    "# Create the Data loader to train the model\n",
    "class CocoDetection(torchvision.datasets.CocoDetection):\n",
    "    def __init__(self, img_folder, feature_extractor, mode='train'):\n",
    "        assert mode in ['train', 'val', 'test'],  f'Unknown mode: {mode}'\n",
    "        ann_file = os.path.join(img_folder, f\"annotations/{mode}.json\")\n",
    "        super(CocoDetection, self).__init__(img_folder, ann_file)\n",
    "        self.feature_extractor = feature_extractor\n",
    "\n",
    "    def __getitem__(self, idx):\n",
    "        # read in PIL image and target in COCO format\n",
    "        img, target = super(CocoDetection, self).__getitem__(idx)\n",
    "        \n",
    "        # preprocess image and target (converting target to DETR format, resizing + normalization of both image and target)\n",
    "        image_id = self.ids[idx]\n",
    "        target = {'image_id': image_id, 'annotations': target}\n",
    "        encoding = self.feature_extractor(images=img, annotations=target, return_tensors=\"pt\")\n",
    "        pixel_values = encoding[\"pixel_values\"].squeeze() # remove batch dimension\n",
    "        target = encoding[\"labels\"][0] # remove batch dimension\n",
    "\n",
    "        return pixel_values, target\n"
   ],
   "metadata": {
    "collapsed": false
   },
   "id": "bff45896c97f9fb7"
  },
  {
   "cell_type": "code",
   "outputs": [],
   "source": [
    "# Set up pre-trained model\n",
    "pretrained_model = \"facebook/detr-resnet-50\"\n",
    "img_folder = \"RebarDSC/images\"\n",
    "\n",
    "feature_extractor = DetrFeatureExtractor.from_pretrained(pretrained_model)\n",
    "\n",
    "test_dataset = CocoDetection(img_folder=f'{img_folder}', feature_extractor=feature_extractor, mode='test')"
   ],
   "metadata": {
    "collapsed": false
   },
   "id": "60148e0e1f5caa69"
  },
  {
   "cell_type": "code",
   "outputs": [],
   "source": [
    "def count_rebar(outputs, threshold=0.7):\n",
    "  # keep only predictions with confidence >= threshold\n",
    "    probas = outputs.logits.softmax(-1)[0, :, :-1]\n",
    "    keep = probas.max(-1).values > threshold\n",
    "\n",
    "  # return the count of rebar\n",
    "    return len(probas[keep])"
   ],
   "metadata": {
    "collapsed": false
   },
   "id": "ee1e9be218cae5e5"
  },
  {
   "cell_type": "code",
   "outputs": [],
   "source": [
    "# Get count from the CSV file\n",
    "res = pd.read_csv(\"RebarDSC/images/annotations/test.csv\", header=None)\n",
    "res.columns = [\"image_name\", \"bbox\"]\n",
    "res[\"image_id\"] = res[\"image_name\"].apply(lambda x: int(x.split(\"_\")[1]))\n",
    "# Get the count of rebar per image_id\n",
    "res = res.groupby(\"image_id\").count().reset_index()\n",
    "res = res[[\"image_id\", \"bbox\"]]\n",
    "res.columns = [\"image_id\", \"count\"]\n",
    "res"
   ],
   "metadata": {
    "collapsed": false
   },
   "id": "63074e5efcf879a6"
  },
  {
   "cell_type": "code",
   "outputs": [],
   "source": [
    "# Get the predictions\n",
    "pred_res = pd.DataFrame(columns=[\"image_id\", \"pred_count\"])\n",
    "for it in iter(range(len(test_dataset))):\n",
    "# it = iter(range(len(test_dataset)))\n",
    "    pixel_values, target = test_dataset[it]\n",
    "    \n",
    "    pixel_values = pixel_values.unsqueeze(0).to(device)\n",
    "    # print(pixel_values.shape)\n",
    "    outputs = model(pixel_values=pixel_values, pixel_mask=None)\n",
    "    image_id = target['image_id'].item()\n",
    "    # image = test_dataset.coco.loadImgs(image_id)[0]\n",
    "    pred_count = count_rebar(outputs, threshold=0.8)\n",
    "    \n",
    "    pred_res.loc[len(pred_res)] = [image_id, pred_count]"
   ],
   "metadata": {
    "collapsed": false
   },
   "id": "8f8de3649211db14"
  },
  {
   "cell_type": "code",
   "outputs": [],
   "source": [
    "# processor = DetrFeatureExtractor.from_pretrained(model)\n",
    "pixel_values, target = test_dataset[0]\n",
    "pixel_values = pixel_values.unsqueeze(0).to(device)\n",
    "outputs = model(pixel_values=pixel_values, pixel_mask=None)\n",
    "# results = processor.post_process_object_detection(outputs, target_sizes=2, threshold=0.9)[0]\n",
    "outputs\n",
    "# probas = outputs.logits.softmax(-1)[0, :, :-1]\n",
    "# probas\n",
    "# pixel_values\n",
    "# it"
   ],
   "metadata": {
    "collapsed": false
   },
   "id": "ef431e3c94922957"
  },
  {
   "cell_type": "code",
   "outputs": [],
   "source": [
    "# Merge the predictions with the ground truth\n",
    "res = res.merge(pred_res, on=\"image_id\")\n",
    "res"
   ],
   "metadata": {
    "collapsed": false
   },
   "id": "c75d9b7b72e038fd"
  },
  {
   "cell_type": "code",
   "outputs": [],
   "source": [
    "# Get the MSE (Mean Squared Error)\n",
    "print(\"MSE:\", mean_squared_error(res[\"count\"], res[\"pred_count\"]))"
   ],
   "metadata": {
    "collapsed": false
   },
   "id": "643e58b643a10f9"
  },
  {
   "cell_type": "code",
   "outputs": [],
   "source": [
    "# Compare the MSE to a naive model\n",
    "avg_count = res[\"count\"].mean()\n",
    "print(\"MSE naive:\", mean_squared_error(res[\"count\"], [avg_count]*len(res)))"
   ],
   "metadata": {
    "collapsed": false
   },
   "id": "cf174a9830ad5277"
  }
 ],
 "metadata": {
  "kernelspec": {
   "display_name": "Python 3",
   "language": "python",
   "name": "python3"
  },
  "language_info": {
   "codemirror_mode": {
    "name": "ipython",
    "version": 2
   },
   "file_extension": ".py",
   "mimetype": "text/x-python",
   "name": "python",
   "nbconvert_exporter": "python",
   "pygments_lexer": "ipython2",
   "version": "2.7.6"
  }
 },
 "nbformat": 4,
 "nbformat_minor": 5
}
