{
 "cells": [
  {
   "cell_type": "markdown",
   "source": [
    "# Predicting the number of rebar in an image\n",
    "After training the model, we can use it to predict the number of rebar in an image."
   ],
   "metadata": {
    "collapsed": false
   },
   "id": "66004d2c19e117c4"
  },
  {
   "cell_type": "code",
   "execution_count": 2,
   "id": "initial_id",
   "metadata": {
    "collapsed": true,
    "ExecuteTime": {
     "end_time": "2024-01-31T08:04:18.957712Z",
     "start_time": "2024-01-31T08:03:59.467680Z"
    }
   },
   "outputs": [],
   "source": [
    "import os\n",
    "import torch\n",
    "import torchvision\n",
    "import pytorch_lightning as pl\n",
    "import pandas as pd\n",
    "import matplotlib.pyplot as plt\n",
    "import seaborn as sns\n",
    "from transformers import DetrForObjectDetection, DetrFeatureExtractor\n",
    "from sklearn.metrics import mean_squared_error"
   ]
  },
  {
   "cell_type": "markdown",
   "source": [
    "## Load the model\n",
    "We will use the model trained in the previous notebook. We need to load it as well as sprecifying the architecture of the model."
   ],
   "metadata": {
    "collapsed": false
   },
   "id": "cc241525c35efcda"
  },
  {
   "cell_type": "code",
   "outputs": [],
   "source": [
    "# Create the Data loader to train the model\n",
    "class CocoDetection(torchvision.datasets.CocoDetection):\n",
    "    def __init__(self, img_folder, feature_extractor, mode='train'):\n",
    "        assert mode in ['train', 'val', 'test'],  f'Unknown mode: {mode}'\n",
    "        ann_file = os.path.join(img_folder, f\"annotations/{mode}.json\")\n",
    "        super(CocoDetection, self).__init__(img_folder, ann_file)\n",
    "        self.feature_extractor = feature_extractor\n",
    "\n",
    "    def __getitem__(self, idx):\n",
    "        # read in PIL image and target in COCO format\n",
    "        img, target = super(CocoDetection, self).__getitem__(idx)\n",
    "        \n",
    "        # preprocess image and target (converting target to DETR format, resizing + normalization of both image and target)\n",
    "        image_id = self.ids[idx]\n",
    "        target = {'image_id': image_id, 'annotations': target}\n",
    "        encoding = self.feature_extractor(images=img, annotations=target, return_tensors=\"pt\")\n",
    "        pixel_values = encoding[\"pixel_values\"].squeeze() # remove batch dimension\n",
    "        target = encoding[\"labels\"][0] # remove batch dimension\n",
    "\n",
    "        return pixel_values, target\n",
    "\n",
    "\n",
    "# We define our model based on DETR\n",
    "class Detr(pl.LightningModule):\n",
    "\n",
    "     def __init__(self, lr=1e-4, lr_backbone=1e-5, weight_decay=1e-4, num_queries=500, num_labels=2, pretrained_model=\"facebook/detr-resnet-50\"):\n",
    "         super().__init__()\n",
    "         # replace COCO classification head with custom head\n",
    "         self.model = DetrForObjectDetection.from_pretrained(pretrained_model, \n",
    "                                                             num_labels=num_labels,\n",
    "                                                             num_queries=num_queries,\n",
    "                                                             ignore_mismatched_sizes=True)\n",
    "         self.lr = lr\n",
    "         self.lr_backbone = lr_backbone\n",
    "         self.weight_decay = weight_decay\n",
    "\n",
    "     def forward(self, pixel_values, pixel_mask):\n",
    "       outputs = self.model(pixel_values=pixel_values, pixel_mask=pixel_mask)\n",
    "\n",
    "       return outputs\n",
    "     \n",
    "     def common_step(self, batch, batch_idx):\n",
    "       pixel_values = batch[\"pixel_values\"]\n",
    "       pixel_mask = batch[\"pixel_mask\"]\n",
    "       labels = [{k: v.to(self.device) for k, v in t.items()} for t in batch[\"labels\"]]\n",
    "\n",
    "       outputs = self.model(pixel_values=pixel_values, pixel_mask=pixel_mask, labels=labels)\n",
    "\n",
    "       loss = outputs.loss\n",
    "       loss_dict = outputs.loss_dict\n",
    "\n",
    "       return loss, loss_dict\n",
    "\n",
    "     def training_step(self, batch, batch_idx):\n",
    "        loss, loss_dict = self.common_step(batch, batch_idx)     \n",
    "        # logs metrics for each training_step,\n",
    "        # and the average across the epoch\n",
    "        self.log(\"training_loss\", loss)\n",
    "        for k,v in loss_dict.items():\n",
    "          self.log(\"train_\" + k, v.item())\n",
    "\n",
    "        return loss\n",
    "\n",
    "     def validation_step(self, batch, batch_idx):\n",
    "        loss, loss_dict = self.common_step(batch, batch_idx)     \n",
    "        self.log(\"validation_loss\", loss)\n",
    "        for k,v in loss_dict.items():\n",
    "          self.log(\"validation_\" + k, v.item())\n",
    "\n",
    "        return loss\n",
    "\n",
    "     def configure_optimizers(self):\n",
    "        param_dicts = [\n",
    "              {\"params\": [p for n, p in self.named_parameters() if \"backbone\" not in n and p.requires_grad]},\n",
    "              {\n",
    "                  \"params\": [p for n, p in self.named_parameters() if \"backbone\" in n and p.requires_grad],\n",
    "                  \"lr\": self.lr_backbone,\n",
    "              },\n",
    "        ]\n",
    "        optimizer = torch.optim.AdamW(param_dicts, lr=self.lr,\n",
    "                                  weight_decay=self.weight_decay)\n",
    "        \n",
    "        return optimizer\n",
    "     # This part is not needed since we are not training the model\n",
    "     # \n",
    "     # def train_dataloader(self):\n",
    "     #    return train_dataloader\n",
    "     # \n",
    "     # def val_dataloader(self):\n",
    "     #    return val_dataloader"
   ],
   "metadata": {
    "collapsed": false,
    "ExecuteTime": {
     "end_time": "2024-01-31T08:04:18.967373Z",
     "start_time": "2024-01-31T08:04:18.957765Z"
    }
   },
   "id": "bff45896c97f9fb7",
   "execution_count": 3
  },
  {
   "cell_type": "code",
   "outputs": [
    {
     "name": "stderr",
     "output_type": "stream",
     "text": [
      "Some weights of the model checkpoint at facebook/detr-resnet-50 were not used when initializing DetrForObjectDetection: ['model.backbone.conv_encoder.model.layer4.0.downsample.1.num_batches_tracked', 'model.backbone.conv_encoder.model.layer3.0.downsample.1.num_batches_tracked', 'model.backbone.conv_encoder.model.layer2.0.downsample.1.num_batches_tracked', 'model.backbone.conv_encoder.model.layer1.0.downsample.1.num_batches_tracked']\n",
      "- This IS expected if you are initializing DetrForObjectDetection from the checkpoint of a model trained on another task or with another architecture (e.g. initializing a BertForSequenceClassification model from a BertForPreTraining model).\n",
      "- This IS NOT expected if you are initializing DetrForObjectDetection from the checkpoint of a model that you expect to be exactly identical (initializing a BertForSequenceClassification model from a BertForSequenceClassification model).\n",
      "Some weights of DetrForObjectDetection were not initialized from the model checkpoint at facebook/detr-resnet-50 and are newly initialized because the shapes did not match:\n",
      "- model.query_position_embeddings.weight: found shape torch.Size([100, 256]) in the checkpoint and torch.Size([500, 256]) in the model instantiated\n",
      "- class_labels_classifier.weight: found shape torch.Size([92, 256]) in the checkpoint and torch.Size([3, 256]) in the model instantiated\n",
      "- class_labels_classifier.bias: found shape torch.Size([92]) in the checkpoint and torch.Size([3]) in the model instantiated\n",
      "You should probably TRAIN this model on a down-stream task to be able to use it for predictions and inference.\n"
     ]
    },
    {
     "data": {
      "text/plain": "Detr(\n  (model): DetrForObjectDetection(\n    (model): DetrModel(\n      (backbone): DetrConvModel(\n        (conv_encoder): DetrConvEncoder(\n          (model): FeatureListNet(\n            (conv1): Conv2d(3, 64, kernel_size=(7, 7), stride=(2, 2), padding=(3, 3), bias=False)\n            (bn1): DetrFrozenBatchNorm2d()\n            (act1): ReLU(inplace=True)\n            (maxpool): MaxPool2d(kernel_size=3, stride=2, padding=1, dilation=1, ceil_mode=False)\n            (layer1): Sequential(\n              (0): Bottleneck(\n                (conv1): Conv2d(64, 64, kernel_size=(1, 1), stride=(1, 1), bias=False)\n                (bn1): DetrFrozenBatchNorm2d()\n                (act1): ReLU(inplace=True)\n                (conv2): Conv2d(64, 64, kernel_size=(3, 3), stride=(1, 1), padding=(1, 1), bias=False)\n                (bn2): DetrFrozenBatchNorm2d()\n                (drop_block): Identity()\n                (act2): ReLU(inplace=True)\n                (aa): Identity()\n                (conv3): Conv2d(64, 256, kernel_size=(1, 1), stride=(1, 1), bias=False)\n                (bn3): DetrFrozenBatchNorm2d()\n                (act3): ReLU(inplace=True)\n                (downsample): Sequential(\n                  (0): Conv2d(64, 256, kernel_size=(1, 1), stride=(1, 1), bias=False)\n                  (1): DetrFrozenBatchNorm2d()\n                )\n              )\n              (1): Bottleneck(\n                (conv1): Conv2d(256, 64, kernel_size=(1, 1), stride=(1, 1), bias=False)\n                (bn1): DetrFrozenBatchNorm2d()\n                (act1): ReLU(inplace=True)\n                (conv2): Conv2d(64, 64, kernel_size=(3, 3), stride=(1, 1), padding=(1, 1), bias=False)\n                (bn2): DetrFrozenBatchNorm2d()\n                (drop_block): Identity()\n                (act2): ReLU(inplace=True)\n                (aa): Identity()\n                (conv3): Conv2d(64, 256, kernel_size=(1, 1), stride=(1, 1), bias=False)\n                (bn3): DetrFrozenBatchNorm2d()\n                (act3): ReLU(inplace=True)\n              )\n              (2): Bottleneck(\n                (conv1): Conv2d(256, 64, kernel_size=(1, 1), stride=(1, 1), bias=False)\n                (bn1): DetrFrozenBatchNorm2d()\n                (act1): ReLU(inplace=True)\n                (conv2): Conv2d(64, 64, kernel_size=(3, 3), stride=(1, 1), padding=(1, 1), bias=False)\n                (bn2): DetrFrozenBatchNorm2d()\n                (drop_block): Identity()\n                (act2): ReLU(inplace=True)\n                (aa): Identity()\n                (conv3): Conv2d(64, 256, kernel_size=(1, 1), stride=(1, 1), bias=False)\n                (bn3): DetrFrozenBatchNorm2d()\n                (act3): ReLU(inplace=True)\n              )\n            )\n            (layer2): Sequential(\n              (0): Bottleneck(\n                (conv1): Conv2d(256, 128, kernel_size=(1, 1), stride=(1, 1), bias=False)\n                (bn1): DetrFrozenBatchNorm2d()\n                (act1): ReLU(inplace=True)\n                (conv2): Conv2d(128, 128, kernel_size=(3, 3), stride=(2, 2), padding=(1, 1), bias=False)\n                (bn2): DetrFrozenBatchNorm2d()\n                (drop_block): Identity()\n                (act2): ReLU(inplace=True)\n                (aa): Identity()\n                (conv3): Conv2d(128, 512, kernel_size=(1, 1), stride=(1, 1), bias=False)\n                (bn3): DetrFrozenBatchNorm2d()\n                (act3): ReLU(inplace=True)\n                (downsample): Sequential(\n                  (0): Conv2d(256, 512, kernel_size=(1, 1), stride=(2, 2), bias=False)\n                  (1): DetrFrozenBatchNorm2d()\n                )\n              )\n              (1): Bottleneck(\n                (conv1): Conv2d(512, 128, kernel_size=(1, 1), stride=(1, 1), bias=False)\n                (bn1): DetrFrozenBatchNorm2d()\n                (act1): ReLU(inplace=True)\n                (conv2): Conv2d(128, 128, kernel_size=(3, 3), stride=(1, 1), padding=(1, 1), bias=False)\n                (bn2): DetrFrozenBatchNorm2d()\n                (drop_block): Identity()\n                (act2): ReLU(inplace=True)\n                (aa): Identity()\n                (conv3): Conv2d(128, 512, kernel_size=(1, 1), stride=(1, 1), bias=False)\n                (bn3): DetrFrozenBatchNorm2d()\n                (act3): ReLU(inplace=True)\n              )\n              (2): Bottleneck(\n                (conv1): Conv2d(512, 128, kernel_size=(1, 1), stride=(1, 1), bias=False)\n                (bn1): DetrFrozenBatchNorm2d()\n                (act1): ReLU(inplace=True)\n                (conv2): Conv2d(128, 128, kernel_size=(3, 3), stride=(1, 1), padding=(1, 1), bias=False)\n                (bn2): DetrFrozenBatchNorm2d()\n                (drop_block): Identity()\n                (act2): ReLU(inplace=True)\n                (aa): Identity()\n                (conv3): Conv2d(128, 512, kernel_size=(1, 1), stride=(1, 1), bias=False)\n                (bn3): DetrFrozenBatchNorm2d()\n                (act3): ReLU(inplace=True)\n              )\n              (3): Bottleneck(\n                (conv1): Conv2d(512, 128, kernel_size=(1, 1), stride=(1, 1), bias=False)\n                (bn1): DetrFrozenBatchNorm2d()\n                (act1): ReLU(inplace=True)\n                (conv2): Conv2d(128, 128, kernel_size=(3, 3), stride=(1, 1), padding=(1, 1), bias=False)\n                (bn2): DetrFrozenBatchNorm2d()\n                (drop_block): Identity()\n                (act2): ReLU(inplace=True)\n                (aa): Identity()\n                (conv3): Conv2d(128, 512, kernel_size=(1, 1), stride=(1, 1), bias=False)\n                (bn3): DetrFrozenBatchNorm2d()\n                (act3): ReLU(inplace=True)\n              )\n            )\n            (layer3): Sequential(\n              (0): Bottleneck(\n                (conv1): Conv2d(512, 256, kernel_size=(1, 1), stride=(1, 1), bias=False)\n                (bn1): DetrFrozenBatchNorm2d()\n                (act1): ReLU(inplace=True)\n                (conv2): Conv2d(256, 256, kernel_size=(3, 3), stride=(2, 2), padding=(1, 1), bias=False)\n                (bn2): DetrFrozenBatchNorm2d()\n                (drop_block): Identity()\n                (act2): ReLU(inplace=True)\n                (aa): Identity()\n                (conv3): Conv2d(256, 1024, kernel_size=(1, 1), stride=(1, 1), bias=False)\n                (bn3): DetrFrozenBatchNorm2d()\n                (act3): ReLU(inplace=True)\n                (downsample): Sequential(\n                  (0): Conv2d(512, 1024, kernel_size=(1, 1), stride=(2, 2), bias=False)\n                  (1): DetrFrozenBatchNorm2d()\n                )\n              )\n              (1): Bottleneck(\n                (conv1): Conv2d(1024, 256, kernel_size=(1, 1), stride=(1, 1), bias=False)\n                (bn1): DetrFrozenBatchNorm2d()\n                (act1): ReLU(inplace=True)\n                (conv2): Conv2d(256, 256, kernel_size=(3, 3), stride=(1, 1), padding=(1, 1), bias=False)\n                (bn2): DetrFrozenBatchNorm2d()\n                (drop_block): Identity()\n                (act2): ReLU(inplace=True)\n                (aa): Identity()\n                (conv3): Conv2d(256, 1024, kernel_size=(1, 1), stride=(1, 1), bias=False)\n                (bn3): DetrFrozenBatchNorm2d()\n                (act3): ReLU(inplace=True)\n              )\n              (2): Bottleneck(\n                (conv1): Conv2d(1024, 256, kernel_size=(1, 1), stride=(1, 1), bias=False)\n                (bn1): DetrFrozenBatchNorm2d()\n                (act1): ReLU(inplace=True)\n                (conv2): Conv2d(256, 256, kernel_size=(3, 3), stride=(1, 1), padding=(1, 1), bias=False)\n                (bn2): DetrFrozenBatchNorm2d()\n                (drop_block): Identity()\n                (act2): ReLU(inplace=True)\n                (aa): Identity()\n                (conv3): Conv2d(256, 1024, kernel_size=(1, 1), stride=(1, 1), bias=False)\n                (bn3): DetrFrozenBatchNorm2d()\n                (act3): ReLU(inplace=True)\n              )\n              (3): Bottleneck(\n                (conv1): Conv2d(1024, 256, kernel_size=(1, 1), stride=(1, 1), bias=False)\n                (bn1): DetrFrozenBatchNorm2d()\n                (act1): ReLU(inplace=True)\n                (conv2): Conv2d(256, 256, kernel_size=(3, 3), stride=(1, 1), padding=(1, 1), bias=False)\n                (bn2): DetrFrozenBatchNorm2d()\n                (drop_block): Identity()\n                (act2): ReLU(inplace=True)\n                (aa): Identity()\n                (conv3): Conv2d(256, 1024, kernel_size=(1, 1), stride=(1, 1), bias=False)\n                (bn3): DetrFrozenBatchNorm2d()\n                (act3): ReLU(inplace=True)\n              )\n              (4): Bottleneck(\n                (conv1): Conv2d(1024, 256, kernel_size=(1, 1), stride=(1, 1), bias=False)\n                (bn1): DetrFrozenBatchNorm2d()\n                (act1): ReLU(inplace=True)\n                (conv2): Conv2d(256, 256, kernel_size=(3, 3), stride=(1, 1), padding=(1, 1), bias=False)\n                (bn2): DetrFrozenBatchNorm2d()\n                (drop_block): Identity()\n                (act2): ReLU(inplace=True)\n                (aa): Identity()\n                (conv3): Conv2d(256, 1024, kernel_size=(1, 1), stride=(1, 1), bias=False)\n                (bn3): DetrFrozenBatchNorm2d()\n                (act3): ReLU(inplace=True)\n              )\n              (5): Bottleneck(\n                (conv1): Conv2d(1024, 256, kernel_size=(1, 1), stride=(1, 1), bias=False)\n                (bn1): DetrFrozenBatchNorm2d()\n                (act1): ReLU(inplace=True)\n                (conv2): Conv2d(256, 256, kernel_size=(3, 3), stride=(1, 1), padding=(1, 1), bias=False)\n                (bn2): DetrFrozenBatchNorm2d()\n                (drop_block): Identity()\n                (act2): ReLU(inplace=True)\n                (aa): Identity()\n                (conv3): Conv2d(256, 1024, kernel_size=(1, 1), stride=(1, 1), bias=False)\n                (bn3): DetrFrozenBatchNorm2d()\n                (act3): ReLU(inplace=True)\n              )\n            )\n            (layer4): Sequential(\n              (0): Bottleneck(\n                (conv1): Conv2d(1024, 512, kernel_size=(1, 1), stride=(1, 1), bias=False)\n                (bn1): DetrFrozenBatchNorm2d()\n                (act1): ReLU(inplace=True)\n                (conv2): Conv2d(512, 512, kernel_size=(3, 3), stride=(2, 2), padding=(1, 1), bias=False)\n                (bn2): DetrFrozenBatchNorm2d()\n                (drop_block): Identity()\n                (act2): ReLU(inplace=True)\n                (aa): Identity()\n                (conv3): Conv2d(512, 2048, kernel_size=(1, 1), stride=(1, 1), bias=False)\n                (bn3): DetrFrozenBatchNorm2d()\n                (act3): ReLU(inplace=True)\n                (downsample): Sequential(\n                  (0): Conv2d(1024, 2048, kernel_size=(1, 1), stride=(2, 2), bias=False)\n                  (1): DetrFrozenBatchNorm2d()\n                )\n              )\n              (1): Bottleneck(\n                (conv1): Conv2d(2048, 512, kernel_size=(1, 1), stride=(1, 1), bias=False)\n                (bn1): DetrFrozenBatchNorm2d()\n                (act1): ReLU(inplace=True)\n                (conv2): Conv2d(512, 512, kernel_size=(3, 3), stride=(1, 1), padding=(1, 1), bias=False)\n                (bn2): DetrFrozenBatchNorm2d()\n                (drop_block): Identity()\n                (act2): ReLU(inplace=True)\n                (aa): Identity()\n                (conv3): Conv2d(512, 2048, kernel_size=(1, 1), stride=(1, 1), bias=False)\n                (bn3): DetrFrozenBatchNorm2d()\n                (act3): ReLU(inplace=True)\n              )\n              (2): Bottleneck(\n                (conv1): Conv2d(2048, 512, kernel_size=(1, 1), stride=(1, 1), bias=False)\n                (bn1): DetrFrozenBatchNorm2d()\n                (act1): ReLU(inplace=True)\n                (conv2): Conv2d(512, 512, kernel_size=(3, 3), stride=(1, 1), padding=(1, 1), bias=False)\n                (bn2): DetrFrozenBatchNorm2d()\n                (drop_block): Identity()\n                (act2): ReLU(inplace=True)\n                (aa): Identity()\n                (conv3): Conv2d(512, 2048, kernel_size=(1, 1), stride=(1, 1), bias=False)\n                (bn3): DetrFrozenBatchNorm2d()\n                (act3): ReLU(inplace=True)\n              )\n            )\n          )\n        )\n        (position_embedding): DetrSinePositionEmbedding()\n      )\n      (input_projection): Conv2d(2048, 256, kernel_size=(1, 1), stride=(1, 1))\n      (query_position_embeddings): Embedding(500, 256)\n      (encoder): DetrEncoder(\n        (layers): ModuleList(\n          (0-5): 6 x DetrEncoderLayer(\n            (self_attn): DetrAttention(\n              (k_proj): Linear(in_features=256, out_features=256, bias=True)\n              (v_proj): Linear(in_features=256, out_features=256, bias=True)\n              (q_proj): Linear(in_features=256, out_features=256, bias=True)\n              (out_proj): Linear(in_features=256, out_features=256, bias=True)\n            )\n            (self_attn_layer_norm): LayerNorm((256,), eps=1e-05, elementwise_affine=True)\n            (activation_fn): ReLU()\n            (fc1): Linear(in_features=256, out_features=2048, bias=True)\n            (fc2): Linear(in_features=2048, out_features=256, bias=True)\n            (final_layer_norm): LayerNorm((256,), eps=1e-05, elementwise_affine=True)\n          )\n        )\n      )\n      (decoder): DetrDecoder(\n        (layers): ModuleList(\n          (0-5): 6 x DetrDecoderLayer(\n            (self_attn): DetrAttention(\n              (k_proj): Linear(in_features=256, out_features=256, bias=True)\n              (v_proj): Linear(in_features=256, out_features=256, bias=True)\n              (q_proj): Linear(in_features=256, out_features=256, bias=True)\n              (out_proj): Linear(in_features=256, out_features=256, bias=True)\n            )\n            (activation_fn): ReLU()\n            (self_attn_layer_norm): LayerNorm((256,), eps=1e-05, elementwise_affine=True)\n            (encoder_attn): DetrAttention(\n              (k_proj): Linear(in_features=256, out_features=256, bias=True)\n              (v_proj): Linear(in_features=256, out_features=256, bias=True)\n              (q_proj): Linear(in_features=256, out_features=256, bias=True)\n              (out_proj): Linear(in_features=256, out_features=256, bias=True)\n            )\n            (encoder_attn_layer_norm): LayerNorm((256,), eps=1e-05, elementwise_affine=True)\n            (fc1): Linear(in_features=256, out_features=2048, bias=True)\n            (fc2): Linear(in_features=2048, out_features=256, bias=True)\n            (final_layer_norm): LayerNorm((256,), eps=1e-05, elementwise_affine=True)\n          )\n        )\n        (layernorm): LayerNorm((256,), eps=1e-05, elementwise_affine=True)\n      )\n    )\n    (class_labels_classifier): Linear(in_features=256, out_features=3, bias=True)\n    (bbox_predictor): DetrMLPPredictionHead(\n      (layers): ModuleList(\n        (0-1): 2 x Linear(in_features=256, out_features=256, bias=True)\n        (2): Linear(in_features=256, out_features=4, bias=True)\n      )\n    )\n  )\n)"
     },
     "execution_count": 4,
     "metadata": {},
     "output_type": "execute_result"
    }
   ],
   "source": [
    "# Read the model from file\n",
    "model1 = Detr\n",
    "model = Detr.load_from_checkpoint(\"./model/detr.ckpt\")\n",
    "device = torch.device(\"mps\" if torch.backends.mps.is_available() else \"cpu\")\n",
    "# Set up the device\n",
    "model.to(device)\n",
    "model.eval()"
   ],
   "metadata": {
    "collapsed": false,
    "ExecuteTime": {
     "end_time": "2024-01-31T08:04:20.743065Z",
     "start_time": "2024-01-31T08:04:18.968115Z"
    }
   },
   "id": "8b12db8bbfac6708",
   "execution_count": 4
  },
  {
   "cell_type": "code",
   "outputs": [
    {
     "name": "stderr",
     "output_type": "stream",
     "text": [
      "/opt/homebrew/Caskroom/miniforge/base/envs/py311/lib/python3.11/site-packages/transformers/models/detr/feature_extraction_detr.py:38: FutureWarning: The class DetrFeatureExtractor is deprecated and will be removed in version 5 of Transformers. Please use DetrImageProcessor instead.\n",
      "  warnings.warn(\n",
      "The `max_size` parameter is deprecated and will be removed in v4.26. Please specify in `size['longest_edge'] instead`.\n"
     ]
    },
    {
     "name": "stdout",
     "output_type": "stream",
     "text": [
      "loading annotations into memory...\n",
      "Done (t=0.17s)\n",
      "creating index...\n",
      "index created!\n",
      "loading annotations into memory...\n",
      "Done (t=0.49s)\n",
      "creating index...\n",
      "index created!\n"
     ]
    }
   ],
   "source": [
    "# Set up pre-trained model\n",
    "pretrained_model = \"facebook/detr-resnet-50\"\n",
    "img_folder = \"RebarDSC/images\"\n",
    "\n",
    "feature_extractor = DetrFeatureExtractor.from_pretrained(pretrained_model)\n",
    "val_dataset = CocoDetection(img_folder=f'{img_folder}', feature_extractor=feature_extractor, mode='val')\n",
    "test_dataset = CocoDetection(img_folder=f'{img_folder}', feature_extractor=feature_extractor, mode='test')"
   ],
   "metadata": {
    "collapsed": false,
    "ExecuteTime": {
     "end_time": "2024-01-31T08:04:21.610068Z",
     "start_time": "2024-01-31T08:04:20.741469Z"
    }
   },
   "id": "60148e0e1f5caa69",
   "execution_count": 5
  },
  {
   "cell_type": "markdown",
   "source": [
    "## Hyperparameter tuning\n",
    "Since the model is taking more than 3 hours to train, we will use the validation set to perform a parameter tuning on the threshold to get the best MSE.\n",
    "This is a good practice to avoid overfitting the test set, and also a good compromise between the time spent training and the accuracy of the model."
   ],
   "metadata": {
    "collapsed": false
   },
   "id": "9c81e4f2272a2622"
  },
  {
   "cell_type": "code",
   "outputs": [],
   "source": [
    "def count_rebar(outputs, threshold=0.7):\n",
    "  # keep only predictions with confidence >= threshold\n",
    "    probas = outputs.logits.softmax(-1)[0, :, :-1]\n",
    "    keep = probas.max(-1).values > threshold\n",
    "\n",
    "  # return the count of rebar\n",
    "    return len(probas[keep])"
   ],
   "metadata": {
    "collapsed": false,
    "ExecuteTime": {
     "end_time": "2024-01-31T08:04:21.615746Z",
     "start_time": "2024-01-31T08:04:21.611090Z"
    }
   },
   "id": "ee1e9be218cae5e5",
   "execution_count": 6
  },
  {
   "cell_type": "code",
   "outputs": [],
   "source": [
    "# Perform a parameter tuning on the threshold to get the best MSE\n",
    "def get_RMSE(threshold, mode=\"val\"):\n",
    "    pred_res = pd.DataFrame(columns=[\"image_id\", \"pred_count\", \"act_count\"])\n",
    "    if mode == \"val\":\n",
    "        dataset = val_dataset\n",
    "    elif mode == \"test\":\n",
    "        dataset = test_dataset\n",
    "    else:\n",
    "        raise ValueError(\"Unknown mode\")\n",
    "    \n",
    "    for it in iter(range(len(dataset))):\n",
    "        if it % 20 == 0:\n",
    "            # Print the progress\n",
    "            print(f'{it}/{len(dataset)}')\n",
    "\n",
    "        pixel_values, target = dataset[it]\n",
    "        act_count = target['class_labels'].sum().tolist()\n",
    "        \n",
    "        pixel_values = pixel_values.unsqueeze(0).to(device)\n",
    "        outputs = model(pixel_values=pixel_values, pixel_mask=None)\n",
    "        image_id = target['image_id'].item()\n",
    "        pred_count = count_rebar(outputs, threshold=threshold)\n",
    "        \n",
    "        pred_res.loc[len(pred_res)] = [image_id, pred_count, act_count]\n",
    "        \n",
    "    return mean_squared_error(pred_res[\"act_count\"], pred_res[\"pred_count\"]), pred_res"
   ],
   "metadata": {
    "collapsed": false,
    "ExecuteTime": {
     "end_time": "2024-01-31T08:04:21.621108Z",
     "start_time": "2024-01-31T08:04:21.618571Z"
    }
   },
   "id": "251e1e7d0803cdb2",
   "execution_count": 7
  },
  {
   "cell_type": "code",
   "outputs": [
    {
     "name": "stdout",
     "output_type": "stream",
     "text": [
      "0/225\n",
      "20/225\n",
      "40/225\n",
      "60/225\n",
      "80/225\n",
      "100/225\n",
      "120/225\n",
      "140/225\n",
      "160/225\n",
      "180/225\n",
      "200/225\n",
      "220/225\n",
      "Threshold: 0.5, RMSE: 108905.2\n",
      "0/225\n",
      "20/225\n",
      "40/225\n",
      "60/225\n",
      "80/225\n",
      "100/225\n",
      "120/225\n",
      "140/225\n",
      "160/225\n",
      "180/225\n",
      "200/225\n",
      "220/225\n",
      "Threshold: 0.6, RMSE: 93260.42222222222\n",
      "0/225\n",
      "20/225\n",
      "40/225\n",
      "60/225\n",
      "80/225\n",
      "100/225\n",
      "120/225\n",
      "140/225\n",
      "160/225\n",
      "180/225\n",
      "200/225\n",
      "220/225\n",
      "Threshold: 0.7, RMSE: 67846.43111111112\n",
      "0/225\n",
      "20/225\n",
      "40/225\n",
      "60/225\n",
      "80/225\n",
      "100/225\n",
      "120/225\n",
      "140/225\n",
      "160/225\n",
      "180/225\n",
      "200/225\n",
      "220/225\n",
      "Threshold: 0.8, RMSE: 33583.497777777775\n",
      "0/225\n",
      "20/225\n",
      "40/225\n",
      "60/225\n",
      "80/225\n",
      "100/225\n",
      "120/225\n",
      "140/225\n",
      "160/225\n",
      "180/225\n",
      "200/225\n",
      "220/225\n",
      "Threshold: 0.9, RMSE: 9478.36\n"
     ]
    }
   ],
   "source": [
    "# Perform a parameter tuning on the threshold to get the best MSE\n",
    "thresholds = [0.5, 0.6, 0.7, 0.8, 0.85, 0.9, 0.95, 0.99]\n",
    "RMSEs = []\n",
    "for threshold in thresholds:\n",
    "    RMSE = get_RMSE(threshold, mode=\"val\")[0]\n",
    "    print(f\"Threshold: {threshold}, RMSE: {RMSE}\")\n",
    "    RMSEs.append(RMSE)"
   ],
   "metadata": {
    "collapsed": false,
    "ExecuteTime": {
     "end_time": "2024-01-31T08:12:02.759957Z",
     "start_time": "2024-01-31T08:04:21.622710Z"
    }
   },
   "id": "4ed76c41afdbd6ca",
   "execution_count": 8
  },
  {
   "cell_type": "code",
   "outputs": [
    {
     "data": {
      "text/plain": "<Figure size 640x480 with 1 Axes>",
      "image/png": "[encoded data removed]"
     },
     "metadata": {},
     "output_type": "display_data"
    }
   ],
   "source": [
    "#Visualize the results\n",
    "sns.set()\n",
    "plt.plot(thresholds, RMSEs)\n",
    "plt.xlabel(\"Threshold\")\n",
    "plt.ylabel(\"RMSE\")\n",
    "plt.show()"
   ],
   "metadata": {
    "collapsed": false,
    "ExecuteTime": {
     "end_time": "2024-01-31T08:12:02.896655Z",
     "start_time": "2024-01-31T08:12:02.761929Z"
    }
   },
   "id": "c3a631b25cfe5505",
   "execution_count": 9
  },
  {
   "cell_type": "code",
   "outputs": [
    {
     "name": "stdout",
     "output_type": "stream",
     "text": [
      "Best threshold: 0.9\n"
     ]
    }
   ],
   "source": [
    "# Find the best threshold\n",
    "best_threshold = thresholds[RMSEs.index(min(RMSEs))]\n",
    "print(f\"Best threshold: {best_threshold}\")"
   ],
   "metadata": {
    "collapsed": false,
    "ExecuteTime": {
     "end_time": "2024-01-31T08:12:02.899105Z",
     "start_time": "2024-01-31T08:12:02.897409Z"
    }
   },
   "id": "aa0059820a5a82d0",
   "execution_count": 10
  },
  {
   "cell_type": "code",
   "outputs": [
    {
     "name": "stdout",
     "output_type": "stream",
     "text": [
      "0/1000\n",
      "20/1000\n",
      "40/1000\n",
      "60/1000\n",
      "80/1000\n",
      "100/1000\n",
      "120/1000\n",
      "140/1000\n",
      "160/1000\n",
      "180/1000\n",
      "200/1000\n",
      "220/1000\n"
     ]
    }
   ],
   "source": [
    "# Get the MSE (Mean Squared Error)\n",
    "results = get_RMSE(best_threshold, mode=\"test\")\n",
    "print(\"MSE:\", results[0])"
   ],
   "metadata": {
    "collapsed": false,
    "is_executing": true,
    "ExecuteTime": {
     "start_time": "2024-01-31T08:12:02.901648Z"
    }
   },
   "id": "643e58b643a10f9",
   "execution_count": null
  },
  {
   "cell_type": "code",
   "outputs": [],
   "source": [
    "# Compare the MSE to a naive model\n",
    "avg_count = results[1][\"act_count\"].mean()\n",
    "print(\"MSE naive:\", mean_squared_error(results[1][\"act_count\"], [avg_count]*len(results[1])))"
   ],
   "metadata": {
    "collapsed": false,
    "is_executing": true
   },
   "id": "cf174a9830ad5277",
   "execution_count": null
  },
  {
   "cell_type": "code",
   "outputs": [],
   "source": [],
   "metadata": {
    "collapsed": false,
    "is_executing": true
   },
   "id": "7d31561c31aa1967"
  }
 ],
 "metadata": {
  "kernelspec": {
   "display_name": "Python 3",
   "language": "python",
   "name": "python3"
  },
  "language_info": {
   "codemirror_mode": {
    "name": "ipython",
    "version": 2
   },
   "file_extension": ".py",
   "mimetype": "text/x-python",
   "name": "python",
   "nbconvert_exporter": "python",
   "pygments_lexer": "ipython2",
   "version": "2.7.6"
  }
 },
 "nbformat": 4,
 "nbformat_minor": 5
}
