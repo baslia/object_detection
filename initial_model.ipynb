{
 "cells": [
  {
   "cell_type": "code",
   "execution_count": 12,
   "id": "initial_id",
   "metadata": {
    "collapsed": true,
    "ExecuteTime": {
     "end_time": "2024-01-30T08:54:03.003803Z",
     "start_time": "2024-01-30T08:54:02.999151Z"
    }
   },
   "outputs": [],
   "source": [
    "from transformers import DetrImageProcessor, DetrForObjectDetection, DetrFeatureExtractor, DetrConfig\n",
    "import torch\n",
    "from PIL import Image"
   ]
  },
  {
   "cell_type": "code",
   "outputs": [],
   "source": [
    "# Load one image to test\n",
    "image = Image.open('RebarDSC/images/rebar_0_20MM.jpg')\n"
   ],
   "metadata": {
    "collapsed": false,
    "ExecuteTime": {
     "end_time": "2024-01-30T08:44:37.367364Z",
     "start_time": "2024-01-30T08:44:37.355719Z"
    }
   },
   "id": "e9d638d81d94caea",
   "execution_count": 2
  },
  {
   "cell_type": "code",
   "outputs": [],
   "source": [
    "# Load pre-trained model and image processor\n",
    "pretrained_model = \"facebook/detr-resnet-50\"\n",
    "processor = DetrImageProcessor.from_pretrained(pretrained_model, revision=\"no_timm\")\n",
    "model = DetrForObjectDetection.from_pretrained(pretrained_model, revision=\"no_timm\")\n"
   ],
   "metadata": {
    "collapsed": false,
    "ExecuteTime": {
     "end_time": "2024-01-30T08:53:28.695763Z",
     "start_time": "2024-01-30T08:53:27.944531Z"
    }
   },
   "id": "52685952899234c9",
   "execution_count": 9
  },
  {
   "cell_type": "code",
   "outputs": [],
   "source": [
    "inputs = processor(images=image, return_tensors=\"pt\")\n",
    "outputs = model(**inputs)"
   ],
   "metadata": {
    "collapsed": false,
    "ExecuteTime": {
     "end_time": "2024-01-30T08:45:42.461573Z",
     "start_time": "2024-01-30T08:45:41.698109Z"
    }
   },
   "id": "aede9ccb5f625b14",
   "execution_count": 4
  },
  {
   "cell_type": "code",
   "outputs": [
    {
     "name": "stdout",
     "output_type": "stream",
     "text": [
      "Detected teddy bear with confidence 0.839 at location [108.81, 113.71, 2645.52, 3104.0]\n"
     ]
    }
   ],
   "source": [
    "# convert outputs (bounding boxes and class logits) to COCO API\n",
    "# let's only keep detections with score > 0.5\n",
    "target_sizes = torch.tensor([image.size[::-1]])\n",
    "results = processor.post_process_object_detection(outputs, target_sizes=target_sizes, threshold=0.5)[0]\n",
    "\n",
    "for score, label, box in zip(results[\"scores\"], results[\"labels\"], results[\"boxes\"]):\n",
    "    box = [round(i, 2) for i in box.tolist()]\n",
    "    print(\n",
    "            f\"Detected {model.config.id2label[label.item()]} with confidence \"\n",
    "            f\"{round(score.item(), 3)} at location {box}\"\n",
    "    )"
   ],
   "metadata": {
    "collapsed": false,
    "ExecuteTime": {
     "end_time": "2024-01-30T08:46:12.310914Z",
     "start_time": "2024-01-30T08:46:12.306551Z"
    }
   },
   "id": "9f6f4b59ae8d8dfd",
   "execution_count": 6
  },
  {
   "cell_type": "code",
   "outputs": [
    {
     "data": {
      "text/plain": "config.json:   0%|          | 0.00/4.59k [00:00<?, ?B/s]",
      "application/vnd.jupyter.widget-view+json": {
       "version_major": 2,
       "version_minor": 0,
       "model_id": "5701f10c247b4e7eb76dad2f7caf69e5"
      }
     },
     "metadata": {},
     "output_type": "display_data"
    }
   ],
   "source": [
    "# The model needs finetunning to detect rebar\n",
    "num_labels = 1\n",
    "feature_extractor = DetrFeatureExtractor.from_pretrained(\n",
    "    pretrained_model, format=\"coco_panoptic\"\n",
    ")\n",
    "config = DetrConfig.from_pretrained(\n",
    "    pretrained_model,\n",
    "    num_labels=num_labels\n",
    ")\n",
    "\n",
    "model = DetrForObjectDetection.from_pretrained(pretrained_model)\n",
    "model.detr.class_labels_classifier = Linear(\n",
    "    in_features=model.config.hidden_size,\n",
    "    out_features=num_labels + 1,  # +1 for \"no object\" class\n",
    ")\n"
   ],
   "metadata": {
    "collapsed": false,
    "ExecuteTime": {
     "end_time": "2024-01-30T08:54:13.764845Z",
     "start_time": "2024-01-30T08:54:13.399881Z"
    }
   },
   "id": "47e5f54eaf625a56",
   "execution_count": 13
  },
  {
   "cell_type": "code",
   "outputs": [
    {
     "data": {
      "text/plain": "DetrConfig {\n  \"activation_dropout\": 0.0,\n  \"activation_function\": \"relu\",\n  \"architectures\": [\n    \"DetrForObjectDetection\"\n  ],\n  \"attention_dropout\": 0.0,\n  \"auxiliary_loss\": false,\n  \"backbone\": \"resnet50\",\n  \"backbone_config\": null,\n  \"bbox_cost\": 5,\n  \"bbox_loss_coefficient\": 5,\n  \"class_cost\": 1,\n  \"classifier_dropout\": 0.0,\n  \"d_model\": 256,\n  \"decoder_attention_heads\": 8,\n  \"decoder_ffn_dim\": 2048,\n  \"decoder_layerdrop\": 0.0,\n  \"decoder_layers\": 6,\n  \"dice_loss_coefficient\": 1,\n  \"dilation\": false,\n  \"dropout\": 0.1,\n  \"encoder_attention_heads\": 8,\n  \"encoder_ffn_dim\": 2048,\n  \"encoder_layerdrop\": 0.0,\n  \"encoder_layers\": 6,\n  \"eos_coefficient\": 0.1,\n  \"giou_cost\": 2,\n  \"giou_loss_coefficient\": 2,\n  \"init_std\": 0.02,\n  \"init_xavier_std\": 1.0,\n  \"is_encoder_decoder\": true,\n  \"mask_loss_coefficient\": 1,\n  \"max_position_embeddings\": 1024,\n  \"model_type\": \"detr\",\n  \"num_channels\": 3,\n  \"num_hidden_layers\": 6,\n  \"num_queries\": 100,\n  \"position_embedding_type\": \"sine\",\n  \"scale_embedding\": false,\n  \"transformers_version\": \"4.35.2\",\n  \"use_pretrained_backbone\": true,\n  \"use_timm_backbone\": true\n}"
     },
     "execution_count": 14,
     "metadata": {},
     "output_type": "execute_result"
    }
   ],
   "source": [
    "config"
   ],
   "metadata": {
    "collapsed": false,
    "ExecuteTime": {
     "end_time": "2024-01-30T08:54:49.292634Z",
     "start_time": "2024-01-30T08:54:49.287349Z"
    }
   },
   "id": "26ce577fe9e94511",
   "execution_count": 14
  },
  {
   "cell_type": "code",
   "outputs": [],
   "source": [],
   "metadata": {
    "collapsed": false
   },
   "id": "3408d49f4ed3ffc"
  }
 ],
 "metadata": {
  "kernelspec": {
   "display_name": "Python 3",
   "language": "python",
   "name": "python3"
  },
  "language_info": {
   "codemirror_mode": {
    "name": "ipython",
    "version": 2
   },
   "file_extension": ".py",
   "mimetype": "text/x-python",
   "name": "python",
   "nbconvert_exporter": "python",
   "pygments_lexer": "ipython2",
   "version": "2.7.6"
  }
 },
 "nbformat": 4,
 "nbformat_minor": 5
}
